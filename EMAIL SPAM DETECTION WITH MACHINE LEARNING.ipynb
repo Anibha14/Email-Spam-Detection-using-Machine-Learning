{
 "cells": [
  {
   "cell_type": "markdown",
   "id": "67f2c67d",
   "metadata": {
    "papermill": {
     "duration": 0.008938,
     "end_time": "2023-01-29T09:31:55.453922",
     "exception": false,
     "start_time": "2023-01-29T09:31:55.444984",
     "status": "completed"
    },
    "tags": []
   },
   "source": [
    "# EMAIL SPAM DETECTION WITH MACHINE LEARNING"
   ]
  },
  {
   "cell_type": "raw",
   "id": "e6cb17dc",
   "metadata": {},
   "source": []
  },
  {
   "cell_type": "code",
   "execution_count": 1,
   "id": "f3a7287f",
   "metadata": {
    "execution": {
     "iopub.execute_input": "2023-01-29T09:31:55.478694Z",
     "iopub.status.busy": "2023-01-29T09:31:55.477584Z",
     "iopub.status.idle": "2023-01-29T09:31:56.664301Z",
     "shell.execute_reply": "2023-01-29T09:31:56.663133Z"
    },
    "executionInfo": {
     "elapsed": 919,
     "status": "ok",
     "timestamp": 1673446417501,
     "user": {
      "displayName": "Harshit S",
      "userId": "03515277596774574357"
     },
     "user_tz": -330
    },
    "id": "6Ccmhp3wDCWx",
    "papermill": {
     "duration": 1.2041,
     "end_time": "2023-01-29T09:31:56.667603",
     "exception": false,
     "start_time": "2023-01-29T09:31:55.463503",
     "status": "completed"
    },
    "tags": []
   },
   "outputs": [],
   "source": [
    "import numpy as np\n",
    "import pandas as pd\n",
    "import matplotlib.pyplot as plt\n",
    "import seaborn as sns\n",
    "from sklearn.utils import resample\n",
    "import seaborn as sb"
   ]
  },
  {
   "cell_type": "code",
   "execution_count": 2,
   "id": "8117f25f",
   "metadata": {
    "execution": {
     "iopub.execute_input": "2023-01-29T09:31:56.706493Z",
     "iopub.status.busy": "2023-01-29T09:31:56.705665Z",
     "iopub.status.idle": "2023-01-29T09:31:56.761182Z",
     "shell.execute_reply": "2023-01-29T09:31:56.760296Z"
    },
    "executionInfo": {
     "elapsed": 56,
     "status": "ok",
     "timestamp": 1673446417505,
     "user": {
      "displayName": "Harshit S",
      "userId": "03515277596774574357"
     },
     "user_tz": -330
    },
    "id": "dTATa5rbDUPj",
    "outputId": "4bb520a1-ba85-4fb7-fa3b-43fa923eccf5",
    "papermill": {
     "duration": 0.069542,
     "end_time": "2023-01-29T09:31:56.764644",
     "exception": false,
     "start_time": "2023-01-29T09:31:56.695102",
     "status": "completed"
    },
    "tags": []
   },
   "outputs": [
    {
     "data": {
      "text/html": [
       "<div>\n",
       "<style scoped>\n",
       "    .dataframe tbody tr th:only-of-type {\n",
       "        vertical-align: middle;\n",
       "    }\n",
       "\n",
       "    .dataframe tbody tr th {\n",
       "        vertical-align: top;\n",
       "    }\n",
       "\n",
       "    .dataframe thead th {\n",
       "        text-align: right;\n",
       "    }\n",
       "</style>\n",
       "<table border=\"1\" class=\"dataframe\">\n",
       "  <thead>\n",
       "    <tr style=\"text-align: right;\">\n",
       "      <th></th>\n",
       "      <th>v1</th>\n",
       "      <th>v2</th>\n",
       "      <th>Unnamed: 2</th>\n",
       "      <th>Unnamed: 3</th>\n",
       "      <th>Unnamed: 4</th>\n",
       "    </tr>\n",
       "  </thead>\n",
       "  <tbody>\n",
       "    <tr>\n",
       "      <th>0</th>\n",
       "      <td>ham</td>\n",
       "      <td>Go until jurong point, crazy.. Available only ...</td>\n",
       "      <td>NaN</td>\n",
       "      <td>NaN</td>\n",
       "      <td>NaN</td>\n",
       "    </tr>\n",
       "    <tr>\n",
       "      <th>1</th>\n",
       "      <td>ham</td>\n",
       "      <td>Ok lar... Joking wif u oni...</td>\n",
       "      <td>NaN</td>\n",
       "      <td>NaN</td>\n",
       "      <td>NaN</td>\n",
       "    </tr>\n",
       "    <tr>\n",
       "      <th>2</th>\n",
       "      <td>spam</td>\n",
       "      <td>Free entry in 2 a wkly comp to win FA Cup fina...</td>\n",
       "      <td>NaN</td>\n",
       "      <td>NaN</td>\n",
       "      <td>NaN</td>\n",
       "    </tr>\n",
       "    <tr>\n",
       "      <th>3</th>\n",
       "      <td>ham</td>\n",
       "      <td>U dun say so early hor... U c already then say...</td>\n",
       "      <td>NaN</td>\n",
       "      <td>NaN</td>\n",
       "      <td>NaN</td>\n",
       "    </tr>\n",
       "    <tr>\n",
       "      <th>4</th>\n",
       "      <td>ham</td>\n",
       "      <td>Nah I don't think he goes to usf, he lives aro...</td>\n",
       "      <td>NaN</td>\n",
       "      <td>NaN</td>\n",
       "      <td>NaN</td>\n",
       "    </tr>\n",
       "    <tr>\n",
       "      <th>...</th>\n",
       "      <td>...</td>\n",
       "      <td>...</td>\n",
       "      <td>...</td>\n",
       "      <td>...</td>\n",
       "      <td>...</td>\n",
       "    </tr>\n",
       "    <tr>\n",
       "      <th>5567</th>\n",
       "      <td>spam</td>\n",
       "      <td>This is the 2nd time we have tried 2 contact u...</td>\n",
       "      <td>NaN</td>\n",
       "      <td>NaN</td>\n",
       "      <td>NaN</td>\n",
       "    </tr>\n",
       "    <tr>\n",
       "      <th>5568</th>\n",
       "      <td>ham</td>\n",
       "      <td>Will Ì_ b going to esplanade fr home?</td>\n",
       "      <td>NaN</td>\n",
       "      <td>NaN</td>\n",
       "      <td>NaN</td>\n",
       "    </tr>\n",
       "    <tr>\n",
       "      <th>5569</th>\n",
       "      <td>ham</td>\n",
       "      <td>Pity, * was in mood for that. So...any other s...</td>\n",
       "      <td>NaN</td>\n",
       "      <td>NaN</td>\n",
       "      <td>NaN</td>\n",
       "    </tr>\n",
       "    <tr>\n",
       "      <th>5570</th>\n",
       "      <td>ham</td>\n",
       "      <td>The guy did some bitching but I acted like i'd...</td>\n",
       "      <td>NaN</td>\n",
       "      <td>NaN</td>\n",
       "      <td>NaN</td>\n",
       "    </tr>\n",
       "    <tr>\n",
       "      <th>5571</th>\n",
       "      <td>ham</td>\n",
       "      <td>Rofl. Its true to its name</td>\n",
       "      <td>NaN</td>\n",
       "      <td>NaN</td>\n",
       "      <td>NaN</td>\n",
       "    </tr>\n",
       "  </tbody>\n",
       "</table>\n",
       "<p>5572 rows × 5 columns</p>\n",
       "</div>"
      ],
      "text/plain": [
       "        v1                                                 v2 Unnamed: 2  \\\n",
       "0      ham  Go until jurong point, crazy.. Available only ...        NaN   \n",
       "1      ham                      Ok lar... Joking wif u oni...        NaN   \n",
       "2     spam  Free entry in 2 a wkly comp to win FA Cup fina...        NaN   \n",
       "3      ham  U dun say so early hor... U c already then say...        NaN   \n",
       "4      ham  Nah I don't think he goes to usf, he lives aro...        NaN   \n",
       "...    ...                                                ...        ...   \n",
       "5567  spam  This is the 2nd time we have tried 2 contact u...        NaN   \n",
       "5568   ham              Will Ì_ b going to esplanade fr home?        NaN   \n",
       "5569   ham  Pity, * was in mood for that. So...any other s...        NaN   \n",
       "5570   ham  The guy did some bitching but I acted like i'd...        NaN   \n",
       "5571   ham                         Rofl. Its true to its name        NaN   \n",
       "\n",
       "     Unnamed: 3 Unnamed: 4  \n",
       "0           NaN        NaN  \n",
       "1           NaN        NaN  \n",
       "2           NaN        NaN  \n",
       "3           NaN        NaN  \n",
       "4           NaN        NaN  \n",
       "...         ...        ...  \n",
       "5567        NaN        NaN  \n",
       "5568        NaN        NaN  \n",
       "5569        NaN        NaN  \n",
       "5570        NaN        NaN  \n",
       "5571        NaN        NaN  \n",
       "\n",
       "[5572 rows x 5 columns]"
      ]
     },
     "execution_count": 2,
     "metadata": {},
     "output_type": "execute_result"
    }
   ],
   "source": [
    "df=pd.read_csv(r\"/kaggle/input/sms-spam-collection-dataset/spam.csv\",encoding=\"latin1\")\n",
    "df"
   ]
  },
  {
   "cell_type": "code",
   "execution_count": 3,
   "id": "4e131d8a",
   "metadata": {
    "execution": {
     "iopub.execute_input": "2023-01-29T09:31:56.785723Z",
     "iopub.status.busy": "2023-01-29T09:31:56.785234Z",
     "iopub.status.idle": "2023-01-29T09:31:56.810479Z",
     "shell.execute_reply": "2023-01-29T09:31:56.809123Z"
    },
    "executionInfo": {
     "elapsed": 52,
     "status": "ok",
     "timestamp": 1673446417507,
     "user": {
      "displayName": "Harshit S",
      "userId": "03515277596774574357"
     },
     "user_tz": -330
    },
    "id": "PGJhVL1uHdAD",
    "outputId": "7bd0b661-85de-4298-b744-8681a6d25277",
    "papermill": {
     "duration": 0.039241,
     "end_time": "2023-01-29T09:31:56.813600",
     "exception": false,
     "start_time": "2023-01-29T09:31:56.774359",
     "status": "completed"
    },
    "tags": []
   },
   "outputs": [
    {
     "name": "stdout",
     "output_type": "stream",
     "text": [
      "<class 'pandas.core.frame.DataFrame'>\n",
      "RangeIndex: 5572 entries, 0 to 5571\n",
      "Data columns (total 5 columns):\n",
      " #   Column      Non-Null Count  Dtype \n",
      "---  ------      --------------  ----- \n",
      " 0   v1          5572 non-null   object\n",
      " 1   v2          5572 non-null   object\n",
      " 2   Unnamed: 2  50 non-null     object\n",
      " 3   Unnamed: 3  12 non-null     object\n",
      " 4   Unnamed: 4  6 non-null      object\n",
      "dtypes: object(5)\n",
      "memory usage: 217.8+ KB\n"
     ]
    }
   ],
   "source": [
    "df.info()"
   ]
  },
  {
   "cell_type": "code",
   "execution_count": 4,
   "id": "3db3b2eb",
   "metadata": {
    "execution": {
     "iopub.execute_input": "2023-01-29T09:31:56.834857Z",
     "iopub.status.busy": "2023-01-29T09:31:56.834128Z",
     "iopub.status.idle": "2023-01-29T09:31:56.845208Z",
     "shell.execute_reply": "2023-01-29T09:31:56.843801Z"
    },
    "papermill": {
     "duration": 0.024744,
     "end_time": "2023-01-29T09:31:56.848005",
     "exception": false,
     "start_time": "2023-01-29T09:31:56.823261",
     "status": "completed"
    },
    "tags": []
   },
   "outputs": [
    {
     "data": {
      "text/plain": [
       "v1               0\n",
       "v2               0\n",
       "Unnamed: 2    5522\n",
       "Unnamed: 3    5560\n",
       "Unnamed: 4    5566\n",
       "dtype: int64"
      ]
     },
     "execution_count": 4,
     "metadata": {},
     "output_type": "execute_result"
    }
   ],
   "source": [
    "df.isnull().sum()"
   ]
  },
  {
   "cell_type": "code",
   "execution_count": 5,
   "id": "629f7254",
   "metadata": {
    "execution": {
     "iopub.execute_input": "2023-01-29T09:31:56.887791Z",
     "iopub.status.busy": "2023-01-29T09:31:56.887343Z",
     "iopub.status.idle": "2023-01-29T09:31:56.896619Z",
     "shell.execute_reply": "2023-01-29T09:31:56.895347Z"
    },
    "executionInfo": {
     "elapsed": 48,
     "status": "ok",
     "timestamp": 1673446417509,
     "user": {
      "displayName": "Harshit S",
      "userId": "03515277596774574357"
     },
     "user_tz": -330
    },
    "id": "HxlWZKwmHfL1",
    "papermill": {
     "duration": 0.022616,
     "end_time": "2023-01-29T09:31:56.899005",
     "exception": false,
     "start_time": "2023-01-29T09:31:56.876389",
     "status": "completed"
    },
    "tags": []
   },
   "outputs": [
    {
     "data": {
      "text/plain": [
       "0       Go until jurong point, crazy.. Available only ...\n",
       "1                           Ok lar... Joking wif u oni...\n",
       "2       Free entry in 2 a wkly comp to win FA Cup fina...\n",
       "3       U dun say so early hor... U c already then say...\n",
       "4       Nah I don't think he goes to usf, he lives aro...\n",
       "                              ...                        \n",
       "5567    This is the 2nd time we have tried 2 contact u...\n",
       "5568                Will Ì_ b going to esplanade fr home?\n",
       "5569    Pity, * was in mood for that. So...any other s...\n",
       "5570    The guy did some bitching but I acted like i'd...\n",
       "5571                           Rofl. Its true to its name\n",
       "Name: v2, Length: 5572, dtype: object"
      ]
     },
     "execution_count": 5,
     "metadata": {},
     "output_type": "execute_result"
    }
   ],
   "source": [
    "x=df.v2\n",
    "x"
   ]
  },
  {
   "cell_type": "code",
   "execution_count": 6,
   "id": "4d374bc0",
   "metadata": {
    "execution": {
     "iopub.execute_input": "2023-01-29T09:31:56.920405Z",
     "iopub.status.busy": "2023-01-29T09:31:56.920010Z",
     "iopub.status.idle": "2023-01-29T09:31:56.928303Z",
     "shell.execute_reply": "2023-01-29T09:31:56.927162Z"
    },
    "papermill": {
     "duration": 0.021954,
     "end_time": "2023-01-29T09:31:56.930681",
     "exception": false,
     "start_time": "2023-01-29T09:31:56.908727",
     "status": "completed"
    },
    "tags": []
   },
   "outputs": [
    {
     "data": {
      "text/plain": [
       "0        ham\n",
       "1        ham\n",
       "2       spam\n",
       "3        ham\n",
       "4        ham\n",
       "        ... \n",
       "5567    spam\n",
       "5568     ham\n",
       "5569     ham\n",
       "5570     ham\n",
       "5571     ham\n",
       "Name: v1, Length: 5572, dtype: object"
      ]
     },
     "execution_count": 6,
     "metadata": {},
     "output_type": "execute_result"
    }
   ],
   "source": [
    "y=df.v1\n",
    "y"
   ]
  },
  {
   "cell_type": "markdown",
   "id": "005bfaf8",
   "metadata": {
    "papermill": {
     "duration": 0.010164,
     "end_time": "2023-01-29T09:31:56.950699",
     "exception": false,
     "start_time": "2023-01-29T09:31:56.940535",
     "status": "completed"
    },
    "tags": []
   },
   "source": [
    "**LabelEncoding**"
   ]
  },
  {
   "cell_type": "code",
   "execution_count": 7,
   "id": "4fce82c8",
   "metadata": {
    "execution": {
     "iopub.execute_input": "2023-01-29T09:31:56.972895Z",
     "iopub.status.busy": "2023-01-29T09:31:56.972173Z",
     "iopub.status.idle": "2023-01-29T09:31:56.986285Z",
     "shell.execute_reply": "2023-01-29T09:31:56.985080Z"
    },
    "executionInfo": {
     "elapsed": 825,
     "status": "ok",
     "timestamp": 1673446418291,
     "user": {
      "displayName": "Harshit S",
      "userId": "03515277596774574357"
     },
     "user_tz": -330
    },
    "id": "exbgw8jJHszs",
    "outputId": "56401caf-7fda-4278-8efb-4152f17b6dfb",
    "papermill": {
     "duration": 0.028301,
     "end_time": "2023-01-29T09:31:56.988945",
     "exception": false,
     "start_time": "2023-01-29T09:31:56.960644",
     "status": "completed"
    },
    "tags": []
   },
   "outputs": [
    {
     "data": {
      "text/plain": [
       "0       1\n",
       "1       1\n",
       "2       0\n",
       "3       1\n",
       "4       1\n",
       "       ..\n",
       "5567    0\n",
       "5568    1\n",
       "5569    1\n",
       "5570    1\n",
       "5571    1\n",
       "Name: v1, Length: 5572, dtype: int64"
      ]
     },
     "execution_count": 7,
     "metadata": {},
     "output_type": "execute_result"
    }
   ],
   "source": [
    "y.replace(to_replace='ham',value=1,inplace=True)\n",
    "y.replace(to_replace='spam',value=0,inplace=True)\n",
    "y"
   ]
  },
  {
   "cell_type": "markdown",
   "id": "2a7cecd4",
   "metadata": {
    "papermill": {
     "duration": 0.009808,
     "end_time": "2023-01-29T09:31:57.009659",
     "exception": false,
     "start_time": "2023-01-29T09:31:56.999851",
     "status": "completed"
    },
    "tags": []
   },
   "source": [
    "**checking the ratio**"
   ]
  },
  {
   "cell_type": "code",
   "execution_count": 8,
   "id": "ddefd62d",
   "metadata": {
    "execution": {
     "iopub.execute_input": "2023-01-29T09:31:57.031948Z",
     "iopub.status.busy": "2023-01-29T09:31:57.031540Z",
     "iopub.status.idle": "2023-01-29T09:31:57.040736Z",
     "shell.execute_reply": "2023-01-29T09:31:57.039466Z"
    },
    "papermill": {
     "duration": 0.023357,
     "end_time": "2023-01-29T09:31:57.043093",
     "exception": false,
     "start_time": "2023-01-29T09:31:57.019736",
     "status": "completed"
    },
    "tags": []
   },
   "outputs": [
    {
     "data": {
      "text/plain": [
       "1    4825\n",
       "0     747\n",
       "Name: v1, dtype: int64"
      ]
     },
     "execution_count": 8,
     "metadata": {},
     "output_type": "execute_result"
    }
   ],
   "source": [
    "y=df.v1\n",
    "y.value_counts()"
   ]
  },
  {
   "cell_type": "code",
   "execution_count": 8,
   "id": "17a2a874",
   "metadata": {
    "execution": {
     "iopub.execute_input": "2023-01-29T09:31:57.065823Z",
     "iopub.status.busy": "2023-01-29T09:31:57.064798Z",
     "iopub.status.idle": "2023-01-29T09:31:57.298359Z",
     "shell.execute_reply": "2023-01-29T09:31:57.296988Z"
    },
    "papermill": {
     "duration": 0.248173,
     "end_time": "2023-01-29T09:31:57.301410",
     "exception": false,
     "start_time": "2023-01-29T09:31:57.053237",
     "status": "completed"
    },
    "tags": []
   },
   "outputs": [
    {
     "data": {
      "text/plain": [
       "<AxesSubplot:xlabel='v1', ylabel='Count'>"
      ]
     },
     "execution_count": 8,
     "metadata": {},
     "output_type": "execute_result"
    },
    {
     "data": {
      "image/png": "[encoded data removed]",
      "text/plain": [
       "<Figure size 640x480 with 1 Axes>"
      ]
     },
     "metadata": {},
     "output_type": "display_data"
    }
   ],
   "source": [
    "sb.histplot(y)"
   ]
  },
  {
   "cell_type": "markdown",
   "id": "b2c28ec6",
   "metadata": {
    "papermill": {
     "duration": 0.010157,
     "end_time": "2023-01-29T09:31:57.322185",
     "exception": false,
     "start_time": "2023-01-29T09:31:57.312028",
     "status": "completed"
    },
    "tags": []
   },
   "source": [
    "spam mail datas are very low compared to normal mails"
   ]
  },
  {
   "cell_type": "markdown",
   "id": "e579de26",
   "metadata": {
    "papermill": {
     "duration": 0.010088,
     "end_time": "2023-01-29T09:31:57.342706",
     "exception": false,
     "start_time": "2023-01-29T09:31:57.332618",
     "status": "completed"
    },
    "tags": []
   },
   "source": [
    "**Splitting the data**"
   ]
  },
  {
   "cell_type": "code",
   "execution_count": 9,
   "id": "6edd889a",
   "metadata": {
    "execution": {
     "iopub.execute_input": "2023-01-29T09:31:57.365842Z",
     "iopub.status.busy": "2023-01-29T09:31:57.365391Z",
     "iopub.status.idle": "2023-01-29T09:31:57.462580Z",
     "shell.execute_reply": "2023-01-29T09:31:57.461141Z"
    },
    "executionInfo": {
     "elapsed": 36,
     "status": "ok",
     "timestamp": 1673446418292,
     "user": {
      "displayName": "Harshit S",
      "userId": "03515277596774574357"
     },
     "user_tz": -330
    },
    "id": "yzGjWI3JH90m",
    "papermill": {
     "duration": 0.112686,
     "end_time": "2023-01-29T09:31:57.465758",
     "exception": false,
     "start_time": "2023-01-29T09:31:57.353072",
     "status": "completed"
    },
    "tags": []
   },
   "outputs": [],
   "source": [
    "from sklearn.model_selection import train_test_split\n",
    "x_train,x_test,y_train,y_test=train_test_split(x,y,train_size=0.9,random_state=25)"
   ]
  },
  {
   "cell_type": "markdown",
   "id": "531e6c7d",
   "metadata": {
    "papermill": {
     "duration": 0.010332,
     "end_time": "2023-01-29T09:31:57.486892",
     "exception": false,
     "start_time": "2023-01-29T09:31:57.476560",
     "status": "completed"
    },
    "tags": []
   },
   "source": [
    "**Oversampling with resample function**"
   ]
  },
  {
   "cell_type": "code",
   "execution_count": 10,
   "id": "6963b362",
   "metadata": {
    "execution": {
     "iopub.execute_input": "2023-01-29T09:31:57.510393Z",
     "iopub.status.busy": "2023-01-29T09:31:57.509971Z",
     "iopub.status.idle": "2023-01-29T09:31:57.520608Z",
     "shell.execute_reply": "2023-01-29T09:31:57.518870Z"
    },
    "papermill": {
     "duration": 0.029848,
     "end_time": "2023-01-29T09:31:57.527349",
     "exception": false,
     "start_time": "2023-01-29T09:31:57.497501",
     "status": "completed"
    },
    "tags": []
   },
   "outputs": [],
   "source": [
    "gok= pd.concat([x_train, y_train], axis=1)\n",
    "\n",
    "# separate minority and majority classes\n",
    "spam = gok[gok.v1==0]\n",
    "ham = gok[gok.v1==1]"
   ]
  },
  {
   "cell_type": "code",
   "execution_count": 11,
   "id": "6ca25abd",
   "metadata": {
    "execution": {
     "iopub.execute_input": "2023-01-29T09:31:57.557463Z",
     "iopub.status.busy": "2023-01-29T09:31:57.556913Z",
     "iopub.status.idle": "2023-01-29T09:31:57.566139Z",
     "shell.execute_reply": "2023-01-29T09:31:57.564818Z"
    },
    "papermill": {
     "duration": 0.028304,
     "end_time": "2023-01-29T09:31:57.570886",
     "exception": false,
     "start_time": "2023-01-29T09:31:57.542582",
     "status": "completed"
    },
    "tags": []
   },
   "outputs": [],
   "source": [
    "assem=resample(spam,replace=True,n_samples=len(ham),random_state=25)"
   ]
  },
  {
   "cell_type": "markdown",
   "id": "57956169",
   "metadata": {
    "papermill": {
     "duration": 0.011346,
     "end_time": "2023-01-29T09:31:57.597914",
     "exception": false,
     "start_time": "2023-01-29T09:31:57.586568",
     "status": "completed"
    },
    "tags": []
   },
   "source": [
    "the minority data is also populated equally to majority"
   ]
  },
  {
   "cell_type": "code",
   "execution_count": 12,
   "id": "5897f809",
   "metadata": {
    "execution": {
     "iopub.execute_input": "2023-01-29T09:31:57.626005Z",
     "iopub.status.busy": "2023-01-29T09:31:57.625558Z",
     "iopub.status.idle": "2023-01-29T09:31:57.636716Z",
     "shell.execute_reply": "2023-01-29T09:31:57.635620Z"
    },
    "papermill": {
     "duration": 0.029514,
     "end_time": "2023-01-29T09:31:57.639156",
     "exception": false,
     "start_time": "2023-01-29T09:31:57.609642",
     "status": "completed"
    },
    "tags": []
   },
   "outputs": [
    {
     "data": {
      "text/plain": [
       "1    4350\n",
       "0    4350\n",
       "Name: v1, dtype: int64"
      ]
     },
     "execution_count": 12,
     "metadata": {},
     "output_type": "execute_result"
    }
   ],
   "source": [
    "upsample=pd.concat([ham,assem])\n",
    "upsample.v1.value_counts()"
   ]
  },
  {
   "cell_type": "markdown",
   "id": "1b9d1c8c",
   "metadata": {
    "papermill": {
     "duration": 0.010376,
     "end_time": "2023-01-29T09:31:57.660781",
     "exception": false,
     "start_time": "2023-01-29T09:31:57.650405",
     "status": "completed"
    },
    "tags": []
   },
   "source": [
    "**Splitting Again**"
   ]
  },
  {
   "cell_type": "code",
   "execution_count": 13,
   "id": "9ff937fd",
   "metadata": {
    "execution": {
     "iopub.execute_input": "2023-01-29T09:31:57.683670Z",
     "iopub.status.busy": "2023-01-29T09:31:57.683206Z",
     "iopub.status.idle": "2023-01-29T09:31:57.688933Z",
     "shell.execute_reply": "2023-01-29T09:31:57.687657Z"
    },
    "papermill": {
     "duration": 0.019867,
     "end_time": "2023-01-29T09:31:57.691410",
     "exception": false,
     "start_time": "2023-01-29T09:31:57.671543",
     "status": "completed"
    },
    "tags": []
   },
   "outputs": [],
   "source": [
    "y_train=upsample.v1\n",
    "\n",
    "x_train=upsample.v2"
   ]
  },
  {
   "cell_type": "code",
   "execution_count": 14,
   "id": "ba412788",
   "metadata": {
    "execution": {
     "iopub.execute_input": "2023-01-29T09:31:57.715815Z",
     "iopub.status.busy": "2023-01-29T09:31:57.714568Z",
     "iopub.status.idle": "2023-01-29T09:31:57.724390Z",
     "shell.execute_reply": "2023-01-29T09:31:57.723241Z"
    },
    "papermill": {
     "duration": 0.024849,
     "end_time": "2023-01-29T09:31:57.726883",
     "exception": false,
     "start_time": "2023-01-29T09:31:57.702034",
     "status": "completed"
    },
    "tags": []
   },
   "outputs": [
    {
     "data": {
      "text/plain": [
       "778     Happy New year my dear brother. I really do mi...\n",
       "5444    Good morning. At the repair shop--the ONLY rea...\n",
       "4114    Sorry. You never hear unless you book it. One ...\n",
       "3229    I feel like a dick because I keep sleeping thr...\n",
       "3180    So many people seems to be special at first si...\n",
       "                              ...                        \n",
       "3569    Customer Loyalty Offer:The NEW Nokia6650 Mobil...\n",
       "3817    74355 XMAS iscoming & ur awarded either å£500 ...\n",
       "4504    Mobile Club: Choose any of the top quality ite...\n",
       "269     Ringtone Club: Get the UK singles chart on you...\n",
       "1141    I don't know u and u don't know me. Send CHAT ...\n",
       "Name: v2, Length: 8700, dtype: object"
      ]
     },
     "execution_count": 14,
     "metadata": {},
     "output_type": "execute_result"
    }
   ],
   "source": [
    "x_train"
   ]
  },
  {
   "cell_type": "code",
   "execution_count": 15,
   "id": "ab73ef84",
   "metadata": {
    "execution": {
     "iopub.execute_input": "2023-01-29T09:31:57.751024Z",
     "iopub.status.busy": "2023-01-29T09:31:57.750572Z",
     "iopub.status.idle": "2023-01-29T09:31:57.759691Z",
     "shell.execute_reply": "2023-01-29T09:31:57.758478Z"
    },
    "papermill": {
     "duration": 0.024316,
     "end_time": "2023-01-29T09:31:57.762223",
     "exception": false,
     "start_time": "2023-01-29T09:31:57.737907",
     "status": "completed"
    },
    "tags": []
   },
   "outputs": [
    {
     "data": {
      "text/plain": [
       "778     1\n",
       "5444    1\n",
       "4114    1\n",
       "3229    1\n",
       "3180    1\n",
       "       ..\n",
       "3569    0\n",
       "3817    0\n",
       "4504    0\n",
       "269     0\n",
       "1141    0\n",
       "Name: v1, Length: 8700, dtype: int64"
      ]
     },
     "execution_count": 15,
     "metadata": {},
     "output_type": "execute_result"
    }
   ],
   "source": [
    "y_train"
   ]
  },
  {
   "cell_type": "code",
   "execution_count": 16,
   "id": "5547364c",
   "metadata": {
    "execution": {
     "iopub.execute_input": "2023-01-29T09:31:57.786019Z",
     "iopub.status.busy": "2023-01-29T09:31:57.785564Z",
     "iopub.status.idle": "2023-01-29T09:31:57.986634Z",
     "shell.execute_reply": "2023-01-29T09:31:57.985435Z"
    },
    "papermill": {
     "duration": 0.216667,
     "end_time": "2023-01-29T09:31:57.989951",
     "exception": false,
     "start_time": "2023-01-29T09:31:57.773284",
     "status": "completed"
    },
    "tags": []
   },
   "outputs": [
    {
     "data": {
      "text/plain": [
       "<AxesSubplot:xlabel='v1', ylabel='Count'>"
      ]
     },
     "execution_count": 16,
     "metadata": {},
     "output_type": "execute_result"
    },
    {
     "data": {
      "image/png": "[encoded data removed]",
      "text/plain": [
       "<Figure size 640x480 with 1 Axes>"
      ]
     },
     "metadata": {},
     "output_type": "display_data"
    }
   ],
   "source": [
    "sb.histplot(y_train)"
   ]
  },
  {
   "cell_type": "markdown",
   "id": "0e107a57",
   "metadata": {
    "papermill": {
     "duration": 0.010814,
     "end_time": "2023-01-29T09:31:58.012582",
     "exception": false,
     "start_time": "2023-01-29T09:31:58.001768",
     "status": "completed"
    },
    "tags": []
   },
   "source": [
    "**Using TfidVectorizer**"
   ]
  },
  {
   "cell_type": "code",
   "execution_count": 17,
   "id": "262b10de",
   "metadata": {
    "execution": {
     "iopub.execute_input": "2023-01-29T09:31:58.036584Z",
     "iopub.status.busy": "2023-01-29T09:31:58.036124Z",
     "iopub.status.idle": "2023-01-29T09:31:58.247022Z",
     "shell.execute_reply": "2023-01-29T09:31:58.245884Z"
    },
    "papermill": {
     "duration": 0.226267,
     "end_time": "2023-01-29T09:31:58.249880",
     "exception": false,
     "start_time": "2023-01-29T09:31:58.023613",
     "status": "completed"
    },
    "tags": []
   },
   "outputs": [],
   "source": [
    "from sklearn.feature_extraction.text import TfidfVectorizer\n",
    "vect=TfidfVectorizer(min_df=1,stop_words='english',lowercase=True)\n",
    "tf=vect.fit_transform(x_train)\n",
    "tt=vect.transform(x_test)\n",
    "\n",
    "y_train=y_train.astype('int')\n",
    "y_test=y_test.astype('int')"
   ]
  },
  {
   "cell_type": "code",
   "execution_count": 18,
   "id": "cd60c26a",
   "metadata": {
    "execution": {
     "iopub.execute_input": "2023-01-29T09:31:58.274063Z",
     "iopub.status.busy": "2023-01-29T09:31:58.273654Z",
     "iopub.status.idle": "2023-01-29T09:31:58.283203Z",
     "shell.execute_reply": "2023-01-29T09:31:58.281709Z"
    },
    "papermill": {
     "duration": 0.024512,
     "end_time": "2023-01-29T09:31:58.285671",
     "exception": false,
     "start_time": "2023-01-29T09:31:58.261159",
     "status": "completed"
    },
    "tags": []
   },
   "outputs": [
    {
     "name": "stdout",
     "output_type": "stream",
     "text": [
      "  (0, 797)\t0.33000758327063073\n",
      "  (0, 3459)\t0.32652568205299265\n",
      "  (0, 7736)\t0.3379386699249172\n",
      "  (0, 6994)\t0.15208300400828778\n",
      "  (0, 6185)\t0.1639350254736377\n",
      "  (0, 2293)\t0.3233019450508517\n",
      "  (0, 4993)\t0.20550029182466722\n",
      "  (0, 3318)\t0.19951072808917758\n",
      "  (0, 3999)\t0.1517807057616126\n",
      "  (0, 4653)\t0.2414021141547977\n",
      "  (0, 5770)\t0.24433584646528864\n",
      "  (0, 1575)\t0.2947316788274748\n",
      "  (0, 2283)\t0.21984797548492044\n",
      "  (0, 7875)\t0.2565142595274912\n",
      "  (0, 4899)\t0.17293069466627584\n",
      "  (0, 3460)\t0.2485831728732047\n",
      "  (1, 3627)\t0.4034441986062273\n",
      "  (1, 5774)\t0.45402585129335565\n",
      "  (1, 6289)\t0.37501535973522\n",
      "  (1, 5873)\t0.542719337184543\n",
      "  (1, 4732)\t0.3513362029921707\n",
      "  (1, 3302)\t0.26921251539258134\n",
      "  (2, 4332)\t0.21539968836290557\n",
      "  (2, 1732)\t0.3268985733001604\n",
      "  (2, 4243)\t0.15390445290859622\n",
      "  :\t:\n",
      "  (8698, 1788)\t0.2877124773647757\n",
      "  (8698, 7320)\t0.19748554166440094\n",
      "  (8698, 1866)\t0.2735313238216894\n",
      "  (8698, 4690)\t0.17196853286446553\n",
      "  (8698, 4598)\t0.2193356961307\n",
      "  (8698, 5676)\t0.34645544190820377\n",
      "  (8698, 3101)\t0.149269415653235\n",
      "  (8698, 7643)\t0.20348499473393084\n",
      "  (8699, 4179)\t0.2519147032745657\n",
      "  (8699, 7538)\t0.2404273008086287\n",
      "  (8699, 415)\t0.22653389406342414\n",
      "  (8699, 6785)\t0.22653389406342414\n",
      "  (8699, 3542)\t0.2344006607075338\n",
      "  (8699, 725)\t0.2229059764514033\n",
      "  (8699, 5747)\t0.24679239683080337\n",
      "  (8699, 322)\t0.1654714526820378\n",
      "  (8699, 338)\t0.1808907215840014\n",
      "  (8699, 6007)\t0.22176420625437207\n",
      "  (8699, 4760)\t0.17480556826925162\n",
      "  (8699, 1800)\t0.19239918571384063\n",
      "  (8699, 7876)\t0.24610987895792164\n",
      "  (8699, 2513)\t0.4110510953111009\n",
      "  (8699, 4216)\t0.23051153956588183\n",
      "  (8699, 4086)\t0.3561210277092099\n",
      "  (8699, 6185)\t0.15560967417829763\n"
     ]
    }
   ],
   "source": [
    "print(tf)"
   ]
  },
  {
   "cell_type": "markdown",
   "id": "9abe6b2e",
   "metadata": {
    "papermill": {
     "duration": 0.0109,
     "end_time": "2023-01-29T09:31:58.307770",
     "exception": false,
     "start_time": "2023-01-29T09:31:58.296870",
     "status": "completed"
    },
    "tags": []
   },
   "source": [
    "**Sample data for predicting**"
   ]
  },
  {
   "cell_type": "code",
   "execution_count": 19,
   "id": "3e31e92f",
   "metadata": {
    "execution": {
     "iopub.execute_input": "2023-01-29T09:31:58.333116Z",
     "iopub.status.busy": "2023-01-29T09:31:58.332173Z",
     "iopub.status.idle": "2023-01-29T09:31:58.342674Z",
     "shell.execute_reply": "2023-01-29T09:31:58.340617Z"
    },
    "executionInfo": {
     "elapsed": 747,
     "status": "ok",
     "timestamp": 1673448476705,
     "user": {
      "displayName": "Harshit S",
      "userId": "03515277596774574357"
     },
     "user_tz": -330
    },
    "id": "kKTJ4WJyOmj3",
    "papermill": {
     "duration": 0.025821,
     "end_time": "2023-01-29T09:31:58.345291",
     "exception": false,
     "start_time": "2023-01-29T09:31:58.319470",
     "status": "completed"
    },
    "tags": []
   },
   "outputs": [
    {
     "name": "stdout",
     "output_type": "stream",
     "text": [
      "  (0, 6506)\t0.42271235927006284\n",
      "  (0, 5037)\t0.418821286614165\n",
      "  (0, 4653)\t0.4610834396734566\n",
      "  (0, 2711)\t0.4525101700259577\n",
      "  (0, 1629)\t0.4780581542879124\n",
      "  (1, 6289)\t0.8933602040575118\n",
      "  (1, 3101)\t0.44934123537276305\n",
      "  (2, 7750)\t0.3725769658300088\n",
      "  (2, 7712)\t0.27726132236812095\n",
      "  (2, 3101)\t0.20728081657474287\n",
      "  (2, 2856)\t0.5163706019217881\n",
      "  (2, 2729)\t0.3557875440309929\n",
      "  (2, 2201)\t0.4331008635312039\n",
      "  (2, 1989)\t0.40068378270594257\n",
      "  (3, 2959)\t1.0\n",
      "  (4, 3101)\t0.4969001371840875\n",
      "  (4, 2711)\t0.8678077285127362\n",
      "  (5, 7420)\t0.4457503276424324\n",
      "  (5, 7047)\t0.29923959511221193\n",
      "  (5, 4822)\t0.4457503276424324\n",
      "  (5, 4291)\t0.5212271067677959\n",
      "  (5, 3284)\t0.4004300580397727\n",
      "  (5, 2516)\t0.28468759600506793\n"
     ]
    }
   ],
   "source": [
    "mail=[\n",
    "    'sorry but if u miss this offer,this will be others briyani,Enjoy it buy ordering now',\n",
    "    'free,shop now',\n",
    "    'Free entry in 2 a wkly comp to win FA Cup ',\n",
    "    'your file has been found',\n",
    "    'enjoy swiggy for free',\n",
    "    'Nah I dont think he goes to usf, he lives around here though'\n",
    "]\n",
    "\n",
    "mail=vect.transform(mail)\n",
    "print(mail)"
   ]
  },
  {
   "cell_type": "markdown",
   "id": "08d6046d",
   "metadata": {
    "papermill": {
     "duration": 0.011114,
     "end_time": "2023-01-29T09:31:58.367993",
     "exception": false,
     "start_time": "2023-01-29T09:31:58.356879",
     "status": "completed"
    },
    "tags": []
   },
   "source": [
    "**Using Logistic regression model for training**"
   ]
  },
  {
   "cell_type": "code",
   "execution_count": 20,
   "id": "ca09e70a",
   "metadata": {
    "execution": {
     "iopub.execute_input": "2023-01-29T09:31:58.393080Z",
     "iopub.status.busy": "2023-01-29T09:31:58.392065Z",
     "iopub.status.idle": "2023-01-29T09:31:58.578847Z",
     "shell.execute_reply": "2023-01-29T09:31:58.577582Z"
    },
    "papermill": {
     "duration": 0.202205,
     "end_time": "2023-01-29T09:31:58.581553",
     "exception": false,
     "start_time": "2023-01-29T09:31:58.379348",
     "status": "completed"
    },
    "tags": []
   },
   "outputs": [
    {
     "data": {
      "text/plain": [
       "LogisticRegression()"
      ]
     },
     "execution_count": 20,
     "metadata": {},
     "output_type": "execute_result"
    }
   ],
   "source": [
    "from sklearn.linear_model import LogisticRegression\n",
    "mod=LogisticRegression()\n",
    "\n",
    "mod.fit(tf,y_train)"
   ]
  },
  {
   "cell_type": "code",
   "execution_count": 21,
   "id": "06886c25",
   "metadata": {
    "execution": {
     "iopub.execute_input": "2023-01-29T09:31:58.607469Z",
     "iopub.status.busy": "2023-01-29T09:31:58.606468Z",
     "iopub.status.idle": "2023-01-29T09:31:58.616680Z",
     "shell.execute_reply": "2023-01-29T09:31:58.615447Z"
    },
    "papermill": {
     "duration": 0.026344,
     "end_time": "2023-01-29T09:31:58.619481",
     "exception": false,
     "start_time": "2023-01-29T09:31:58.593137",
     "status": "completed"
    },
    "tags": []
   },
   "outputs": [
    {
     "data": {
      "text/plain": [
       "array([1, 1, 0, 1, 1, 1, 1, 1, 1, 0, 1, 1, 1, 0, 1, 1, 1, 1, 1, 1, 1, 1,\n",
       "       1, 1, 1, 1, 0, 0, 1, 1, 1, 1, 1, 1, 0, 1, 1, 1, 1, 1, 0, 1, 1, 1,\n",
       "       1, 1, 1, 1, 1, 1, 1, 1, 1, 1, 1, 1, 1, 0, 1, 1, 1, 1, 1, 1, 1, 1,\n",
       "       1, 1, 1, 1, 1, 1, 1, 1, 1, 1, 0, 1, 1, 1, 1, 1, 1, 1, 1, 1, 1, 1,\n",
       "       0, 1, 1, 1, 0, 1, 1, 1, 1, 1, 1, 0, 1, 1, 0, 1, 1, 1, 1, 1, 1, 1,\n",
       "       1, 1, 1, 1, 1, 1, 1, 1, 1, 1, 1, 0, 1, 0, 1, 1, 1, 1, 1, 1, 1, 0,\n",
       "       1, 1, 1, 1, 1, 0, 1, 1, 0, 1, 1, 1, 1, 1, 1, 1, 1, 1, 1, 1, 1, 1,\n",
       "       1, 1, 1, 1, 1, 1, 0, 1, 1, 1, 1, 1, 1, 0, 0, 1, 1, 1, 1, 0, 1, 1,\n",
       "       1, 1, 0, 1, 1, 1, 1, 1, 1, 0, 1, 1, 1, 1, 0, 1, 1, 0, 1, 1, 1, 1,\n",
       "       1, 1, 1, 1, 0, 0, 1, 1, 1, 1, 1, 1, 1, 1, 1, 1, 1, 0, 1, 1, 0, 1,\n",
       "       1, 1, 1, 0, 1, 1, 1, 1, 0, 1, 1, 1, 0, 1, 1, 1, 1, 1, 1, 1, 1, 1,\n",
       "       1, 1, 1, 1, 1, 1, 1, 1, 1, 1, 1, 0, 1, 1, 1, 1, 1, 1, 1, 1, 1, 1,\n",
       "       1, 1, 1, 0, 1, 1, 1, 1, 1, 1, 1, 1, 1, 1, 1, 1, 1, 1, 0, 1, 1, 1,\n",
       "       1, 1, 1, 1, 1, 0, 1, 1, 1, 1, 1, 0, 0, 1, 1, 1, 1, 1, 0, 1, 1, 1,\n",
       "       1, 1, 0, 0, 1, 1, 1, 1, 1, 1, 1, 1, 0, 0, 0, 1, 0, 1, 1, 1, 0, 1,\n",
       "       1, 1, 1, 1, 0, 1, 0, 1, 1, 1, 0, 1, 1, 0, 1, 1, 1, 1, 1, 1, 1, 1,\n",
       "       1, 1, 1, 1, 0, 0, 1, 1, 1, 0, 0, 1, 1, 0, 1, 1, 0, 1, 0, 1, 1, 1,\n",
       "       1, 1, 1, 1, 1, 1, 0, 1, 0, 0, 1, 1, 0, 1, 1, 1, 1, 0, 1, 0, 1, 1,\n",
       "       1, 1, 1, 1, 1, 1, 1, 1, 1, 1, 1, 1, 1, 1, 1, 1, 1, 1, 1, 1, 0, 1,\n",
       "       0, 1, 1, 0, 1, 1, 1, 0, 1, 1, 1, 1, 1, 0, 1, 1, 1, 1, 1, 1, 1, 1,\n",
       "       1, 0, 1, 1, 1, 1, 1, 1, 0, 1, 1, 1, 1, 1, 1, 1, 1, 1, 1, 1, 1, 1,\n",
       "       1, 1, 1, 1, 1, 1, 1, 0, 1, 1, 1, 1, 1, 1, 1, 1, 1, 1, 0, 0, 1, 1,\n",
       "       1, 1, 1, 1, 1, 1, 1, 1, 1, 1, 1, 1, 1, 0, 1, 1, 1, 1, 0, 1, 1, 1,\n",
       "       0, 0, 1, 1, 1, 1, 1, 1, 1, 0, 1, 1, 1, 1, 1, 1, 1, 0, 1, 1, 1, 1,\n",
       "       1, 1, 1, 1, 1, 1, 1, 1, 0, 0, 1, 0, 0, 0, 1, 1, 1, 0, 1, 1, 1, 1,\n",
       "       1, 1, 1, 1, 1, 1, 1, 1])"
      ]
     },
     "execution_count": 21,
     "metadata": {},
     "output_type": "execute_result"
    }
   ],
   "source": [
    "mod.predict(tt)"
   ]
  },
  {
   "cell_type": "markdown",
   "id": "b5fb0a2e",
   "metadata": {
    "papermill": {
     "duration": 0.011312,
     "end_time": "2023-01-29T09:31:58.642457",
     "exception": false,
     "start_time": "2023-01-29T09:31:58.631145",
     "status": "completed"
    },
    "tags": []
   },
   "source": [
    "**Predicting accuracy score**"
   ]
  },
  {
   "cell_type": "code",
   "execution_count": 22,
   "id": "ebd63169",
   "metadata": {
    "execution": {
     "iopub.execute_input": "2023-01-29T09:31:58.668438Z",
     "iopub.status.busy": "2023-01-29T09:31:58.667207Z",
     "iopub.status.idle": "2023-01-29T09:31:58.676483Z",
     "shell.execute_reply": "2023-01-29T09:31:58.675337Z"
    },
    "papermill": {
     "duration": 0.02512,
     "end_time": "2023-01-29T09:31:58.679284",
     "exception": false,
     "start_time": "2023-01-29T09:31:58.654164",
     "status": "completed"
    },
    "tags": []
   },
   "outputs": [
    {
     "data": {
      "text/plain": [
       "0.9874551971326165"
      ]
     },
     "execution_count": 22,
     "metadata": {},
     "output_type": "execute_result"
    }
   ],
   "source": [
    "mod.score(tt,y_test)"
   ]
  },
  {
   "cell_type": "markdown",
   "id": "8a36f33f",
   "metadata": {
    "papermill": {
     "duration": 0.011496,
     "end_time": "2023-01-29T09:31:58.702641",
     "exception": false,
     "start_time": "2023-01-29T09:31:58.691145",
     "status": "completed"
    },
    "tags": []
   },
   "source": [
    "**Predicting given data**"
   ]
  },
  {
   "cell_type": "code",
   "execution_count": 24,
   "id": "9816ca16",
   "metadata": {
    "execution": {
     "iopub.execute_input": "2023-01-29T09:31:58.728651Z",
     "iopub.status.busy": "2023-01-29T09:31:58.728166Z",
     "iopub.status.idle": "2023-01-29T09:31:58.736619Z",
     "shell.execute_reply": "2023-01-29T09:31:58.735390Z"
    },
    "papermill": {
     "duration": 0.024027,
     "end_time": "2023-01-29T09:31:58.739090",
     "exception": false,
     "start_time": "2023-01-29T09:31:58.715063",
     "status": "completed"
    },
    "tags": []
   },
   "outputs": [
    {
     "data": {
      "text/plain": [
       "array([1, 0, 0, 1, 0, 1])"
      ]
     },
     "execution_count": 24,
     "metadata": {},
     "output_type": "execute_result"
    }
   ],
   "source": [
    "mod.predict(mail)"
   ]
  },
  {
   "cell_type": "markdown",
   "id": "00ca9b4a",
   "metadata": {
    "papermill": {
     "duration": 0.011412,
     "end_time": "2023-01-29T09:31:58.762342",
     "exception": false,
     "start_time": "2023-01-29T09:31:58.750930",
     "status": "completed"
    },
    "tags": []
   },
   "source": [
    "thus the model works and predicts the spam mail with an accuracy score of 98%"
   ]
  },
  {
   "cell_type": "raw",
   "id": "2dbd89b2",
   "metadata": {},
   "source": []
  },
  {
   "cell_type": "raw",
   "id": "0cb11b2e",
   "metadata": {},
   "source": []
  }
 ],
 "metadata": {
  "kernelspec": {
   "display_name": "Python 3 (ipykernel)",
   "language": "python",
   "name": "python3"
  },
  "language_info": {
   "codemirror_mode": {
    "name": "ipython",
    "version": 3
   },
   "file_extension": ".py",
   "mimetype": "text/x-python",
   "name": "python",
   "nbconvert_exporter": "python",
   "pygments_lexer": "ipython3",
   "version": "3.9.13"
  },
  "papermill": {
   "default_parameters": {},
   "duration": 13.383036,
   "end_time": "2023-01-29T09:31:59.597152",
   "environment_variables": {},
   "exception": null,
   "input_path": "__notebook__.ipynb",
   "output_path": "__notebook__.ipynb",
   "parameters": {},
   "start_time": "2023-01-29T09:31:46.214116",
   "version": "2.3.4"
  }
 },
 "nbformat": 4,
 "nbformat_minor": 5
}
